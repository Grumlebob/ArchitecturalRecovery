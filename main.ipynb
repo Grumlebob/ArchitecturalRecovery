{
  "cells": [
    {
      "cell_type": "markdown",
      "id": "54925f0f",
      "metadata": {},
      "source": [
        "# Python Project Architecture Exploration\n",
        "\n",
        "This notebook demonstrates how to explore the architecture of your Python project (both frontend and backend) using several static analysis tools.\n",
        "\n",
        "## Tools Covered\n",
        "- **Pyan**: Generate static call graphs.\n",
        "- **Pyreverse**: Create UML class and package diagrams from your Python code.\n",
        "- **Snakefood**: Build module dependency graphs.\n",
        "- **Radon**: Evaluate code complexity and maintainability.\n",
        "\n",
        "Your project structure should have your Python backend in `data/api` and your Python frontend in `data/frontend`."
      ]
    },
    {
      "cell_type": "markdown",
      "id": "3d6dc895",
      "metadata": {},
      "source": [
        "## 1. Installation\n",
        "Run the following cell to install the required Python packages.\n",
        "\n",
        "If you don't have Graphviz installed, please install it from your system's package manager (e.g., `sudo apt-get install graphviz` on Debian/Ubuntu or `brew install graphviz` on macOS)."
      ]
    },
    {
      "cell_type": "code",
      "execution_count": null,
      "id": "f7cde1a1",
      "metadata": {},
      "outputs": [],
      "source": [
        "# Install required Python packages\n",
        "!pip install pyan snakefood radon pylint"
      ]
    },
    {
      "cell_type": "markdown",
      "id": "1cacaa7a",
      "metadata": {},
      "source": [
        "## 2. Generate a Static Call Graph with Pyan\n",
        "\n",
        "Pyan analyzes your Python source code and produces a DOT file representing the call graph. This example scans both the backend and frontend directories.\n",
        "\n",
        "**Steps:**\n",
        "1. Run Pyan to generate a DOT file.\n",
        "2. (Optional) Convert the DOT file to an image (e.g., PNG) using Graphviz (`dot -Tpng`)."
      ]
    },
    {
      "cell_type": "code",
      "execution_count": null,
      "id": "dbd93662",
      "metadata": {},
      "outputs": [],
      "source": [
        "# Generate call graph for both backend and frontend\n",
        "!pyan data/api/**/*.py data/frontend/**/*.py --dot --colored --grouped --annotated --no-defines --no-redundant --output project_call_graph.dot\n",
        "\n",
        "# To convert the DOT file to PNG (requires Graphviz), uncomment the following line:\n",
        "# !dot -Tpng project_call_graph.dot -o project_call_graph.png"
      ]
    },
    {
      "cell_type": "markdown",
      "id": "270d477a",
      "metadata": {},
      "source": [
        "## 3. Create UML Diagrams with Pyreverse\n",
        "\n",
        "Pyreverse (provided with Pylint) generates UML class and package diagrams for your Python code.\n",
        "\n",
        "**Steps:**\n",
        "1. Run Pyreverse on the directories to generate PNG images for the UML diagrams."
      ]
    },
    {
      "cell_type": "code",
      "execution_count": null,
      "id": "38ce0e19",
      "metadata": {},
      "outputs": [],
      "source": [
        "# Generate UML diagrams for both backend and frontend\n",
        "!pyreverse data/api data/frontend -o png -p project_architecture\n",
        "\n",
        "# This command produces two PNG files:\n",
        "#   - classes_project_architecture.png (class diagram)\n",
        "#   - packages_project_architecture.png (package diagram)"
      ]
    },
    {
      "cell_type": "markdown",
      "id": "0f78c99f",
      "metadata": {},
      "source": [
        "## 4. Build Module Dependency Graphs with Snakefood\n",
        "\n",
        "Snakefood analyzes the import dependencies among your modules and creates a DOT file.\n",
        "\n",
        "**Steps:**\n",
        "1. Generate the dependency information with `sfood`.\n",
        "2. Create a DOT file using `sfood-graph`.\n",
        "3. (Optional) Convert the DOT file to an image."
      ]
    },
    {
      "cell_type": "code",
      "execution_count": null,
      "id": "58260041",
      "metadata": {},
      "outputs": [],
      "source": [
        "# Generate dependency info for the backend\n",
        "!sfood data/api > api_deps.sfood\n",
        "!sfood-graph api_deps.sfood > api_deps.dot\n",
        "\n",
        "# Generate dependency info for the frontend\n",
        "!sfood data/frontend > frontend_deps.sfood\n",
        "!sfood-graph frontend_deps.sfood > frontend_deps.dot\n",
        "\n",
        "# To convert the DOT files to PNG (requires Graphviz), uncomment the following lines:\n",
        "# !dot -Tpng api_deps.dot -o api_deps.png\n",
        "# !dot -Tpng frontend_deps.dot -o frontend_deps.png"
      ]
    },
    {
      "cell_type": "markdown",
      "id": "d40c9b1e",
      "metadata": {},
      "source": [
        "## 5. Analyze Code Complexity with Radon\n",
        "\n",
        "Radon calculates metrics such as cyclomatic complexity and maintainability index for your Python code.\n",
        "\n",
        "**Steps:**\n",
        "1. Run Radon to display cyclomatic complexity and maintainability index for both directories."
      ]
    },
    {
      "cell_type": "code",
      "execution_count": null,
      "id": "6be969ff",
      "metadata": {},
      "outputs": [],
      "source": [
        "# Cyclomatic Complexity for both backend and frontend\n",
        "!radon cc data/api data/frontend -s\n",
        "\n",
        "# Maintainability Index for both backend and frontend\n",
        "!radon mi data/api data/frontend"
      ]
    },
    {
      "cell_type": "markdown",
      "id": "05b62733",
      "metadata": {},
      "source": [
        "## Next Steps\n",
        "\n",
        "- **Review Diagrams & Metrics**: Analyze the generated call graphs, UML diagrams, dependency graphs, and complexity metrics to understand the architecture and identify hotspots.\n",
        "\n",
        "- **Iterate & Refactor**: Use the insights from these tools to guide refactoring and improve code maintainability.\n",
        "\n",
        "- **Automate Analysis**: Consider integrating these analysis steps into your CI/CD pipeline to continuously monitor architectural changes.\n",
        "\n",
        "Feel free to extend this notebook with more detailed analysis or additional Python-based tools as needed."
      ]
    }
  ],
  "metadata": {
    "kernelspec": {
      "display_name": "Python 3",
      "language": "python",
      "name": "python3"
    },
    "language_info": {
      "name": "python"
    }
  },
  "nbformat": 4,
  "nbformat_minor": 5
}
