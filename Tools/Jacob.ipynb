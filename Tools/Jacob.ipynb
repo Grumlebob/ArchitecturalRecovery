{
  "cells": [
    {
      "cell_type": "markdown",
      "id": "e7e5690e",
      "metadata": {},
      "source": [
        "# Non-working tools"
      ]
    },
    {
      "cell_type": "markdown",
      "id": "887a4ede",
      "metadata": {},
      "source": [
        "## Snakefood\n",
        "https://github.com/blais/snakefood\n",
        "\n",
        "Did not work because:\n",
        "\n",
        "\"Python-3.x is NOT supported, but there have been a few efforts to port to it. I never had time to fully port it; it would require a fair bit of a rewrite to do so IMO.\""
      ]
    },
    {
      "cell_type": "markdown",
      "id": "59c51656",
      "metadata": {},
      "source": [
        "## PyCallGraph\n",
        "\n",
        "Couldn't get it to work. Chased down a never-ending rabbithole.\n",
        "\n",
        "1. Can't find entrypoint / main. Most likely due to the complexity of how the project is run.\n",
        "2. If we try to help it and give some modules a main(), it then can't figure out the dependencies\n",
        "3. If we add the dependencies, they haven't been setup properly.\n",
        "4. Setting them up properly is too hard."
      ]
    },
    {
      "cell_type": "markdown",
      "id": "75be1b99",
      "metadata": {},
      "source": [
        "# Initial thoughts\n",
        "\n",
        "We want to start with some raw metrics like count of files, lines of code.\n",
        "This is important to give us some context.\n",
        "Example, if a package consists of 1 file, with 5 lines of code. Then naturally that package will have lower metrics later on, such as cyclomatic dependencies, etc.\n",
        "\n",
        "\n",
        "Some tools need a __init__ So make a empty .py file in API and Frontend."
      ]
    },
    {
      "cell_type": "markdown",
      "id": "27757273",
      "metadata": {},
      "source": [
        "# Dependencies setup"
      ]
    },
    {
      "cell_type": "code",
      "execution_count": 16,
      "id": "157bc737",
      "metadata": {},
      "outputs": [
        {
          "name": "stdout",
          "output_type": "stream",
          "text": [
            "NumPy version 1.26.4 is compatible (version <2).\n",
            "radon is already installed.\n",
            "matplotlib is already installed.\n",
            "pandas is already installed.\n",
            "networkx is already installed.\n",
            "pydot is already installed.\n",
            "squarify is already installed.\n",
            "pylint is already installed.\n",
            "graphviz is already installed.\n",
            "Installing pyan3...\n",
            "Failed to install pyan3. Error: Command '['c:\\\\Python312\\\\python.exe', '-m', 'pip', 'install', 'pyan3']' returned non-zero exit status 1.\n",
            "Installing prospector...\n",
            "Failed to install prospector. Error: Command '['c:\\\\Python312\\\\python.exe', '-m', 'pip', 'install', 'prospector']' returned non-zero exit status 1.\n",
            "All packages have been checked and installed as needed.\n"
          ]
        }
      ],
      "source": [
        "import os\n",
        "import sys\n",
        "import subprocess\n",
        "\n",
        "def enforce_numpy_version():\n",
        "    \"\"\"\n",
        "    Ensure that NumPy is installed and is a version below 2.x.\n",
        "    If a 2.x version (or higher) is found, downgrade to a 1.x version\n",
        "    and instruct the user to restart the kernel manually if running interactively.\n",
        "    \"\"\"\n",
        "    try:\n",
        "        import numpy as np\n",
        "        major_version = int(np.__version__.split('.')[0])\n",
        "        if major_version >= 2:\n",
        "            print(f\"Detected NumPy version {np.__version__}. Downgrading to numpy<2...\")\n",
        "            subprocess.check_call([sys.executable, \"-m\", \"pip\", \"install\", \"--upgrade\", \"numpy<2\"])\n",
        "            if \"ipykernel\" in sys.modules:\n",
        "                print(\"Please restart your Jupyter kernel manually after downgrading NumPy.\")\n",
        "                sys.exit(0)\n",
        "            else:\n",
        "                print(\"Restarting the script after downgrading NumPy...\")\n",
        "                os.execv(sys.executable, [sys.executable] + sys.argv)\n",
        "        else:\n",
        "            print(f\"NumPy version {np.__version__} is compatible (version <2).\")\n",
        "    except ImportError:\n",
        "        print(\"NumPy is not installed. Installing numpy<2...\")\n",
        "        subprocess.check_call([sys.executable, \"-m\", \"pip\", \"install\", \"numpy<2\"])\n",
        "        if \"ipykernel\" in sys.modules:\n",
        "            print(\"Please restart your Jupyter kernel manually after installing NumPy.\")\n",
        "            sys.exit(0)\n",
        "        else:\n",
        "            print(\"Restarting the script after installing NumPy...\")\n",
        "            os.execv(sys.executable, [sys.executable] + sys.argv)\n",
        "\n",
        "def install_package(package):\n",
        "    \"\"\"\n",
        "    Try to import a package. If it’s not found, install it using pip.\n",
        "    If pip fails for any reason, catch the exception and print an error message.\n",
        "    \"\"\"\n",
        "    try:\n",
        "        # Replace dashes with underscores in case the module name differs from the package name.\n",
        "        __import__(package.replace('-', '_'))\n",
        "        print(f\"{package} is already installed.\")\n",
        "    except ImportError:\n",
        "        print(f\"Installing {package}...\")\n",
        "        try:\n",
        "            subprocess.check_call([sys.executable, \"-m\", \"pip\", \"install\", package])\n",
        "        except subprocess.CalledProcessError as e:\n",
        "            print(f\"Failed to install {package}. Error: {e}\")\n",
        "\n",
        "if __name__ == \"__main__\":\n",
        "    # Ensure NumPy is compatible before proceeding.\n",
        "    enforce_numpy_version()\n",
        "    \n",
        "    # List of packages to install.\n",
        "    packages = [\n",
        "        'radon',\n",
        "        'matplotlib',\n",
        "        'pandas',\n",
        "        'networkx',\n",
        "        'pydot',\n",
        "        'squarify',\n",
        "        'pylint',\n",
        "        'graphviz',\n",
        "        'pyan3',\n",
        "        'prospector'\n",
        "    ]\n",
        "    \n",
        "    for pkg in packages:\n",
        "        install_package(pkg)\n",
        "    \n",
        "    print(\"All packages have been checked and installed as needed.\")\n"
      ]
    },
    {
      "cell_type": "code",
      "execution_count": 5,
      "id": "0aa14116",
      "metadata": {},
      "outputs": [],
      "source": [
        "import datetime\n",
        "import os\n",
        "import sys\n",
        "import subprocess\n",
        "import json\n",
        "import matplotlib.pyplot as plt\n",
        "from pathlib import Path\n",
        "from collections import defaultdict\n",
        "import networkx as nx"
      ]
    },
    {
      "cell_type": "markdown",
      "id": "7b93304c",
      "metadata": {},
      "source": [
        "# Path setup"
      ]
    },
    {
      "cell_type": "code",
      "execution_count": 14,
      "id": "da716c82",
      "metadata": {},
      "outputs": [],
      "source": [
        "TOOLS_DIR = os.getcwd()  # Expected: ...\\Tools\n",
        "BASE_DIR = os.path.abspath(os.path.join(TOOLS_DIR, '..'))\n",
        "DATA_DIR = os.path.join(BASE_DIR, 'Data')\n",
        "\n",
        "# Our repos to analyse:\n",
        "API_DIR = os.path.join(DATA_DIR, 'api')\n",
        "WEB_DIR = os.path.join(DATA_DIR, 'web')"
      ]
    },
    {
      "cell_type": "markdown",
      "id": "bdfe7b4f",
      "metadata": {},
      "source": [
        "# Analyzation project(s) setup"
      ]
    },
    {
      "cell_type": "code",
      "execution_count": 15,
      "id": "b37de714",
      "metadata": {},
      "outputs": [
        {
          "name": "stdout",
          "output_type": "stream",
          "text": [
            "Repository already exists at c:\\Users\\jgrum\\Documents\\Programming\\ArchitecturalRecovery\\Data\\api\n",
            "__init__.py already exists in c:\\Users\\jgrum\\Documents\\Programming\\ArchitecturalRecovery\\Data\\api\n",
            "Repository cloned from https://github.com/zeeguu/web into c:\\Users\\jgrum\\Documents\\Programming\\ArchitecturalRecovery\\Data\\web\n",
            "Empty __init__.py created in c:\\Users\\jgrum\\Documents\\Programming\\ArchitecturalRecovery\\Data\\web\n"
          ]
        }
      ],
      "source": [
        "def clone_repo(repo_url, target_dir):\n",
        "    \"\"\"\n",
        "    Clone a git repository from repo_url into target_dir.\n",
        "    Also create an empty __init__.py file in the repository's root.\n",
        "    \"\"\"\n",
        "    # Ensure the parent directory exists.\n",
        "    parent_dir = os.path.dirname(target_dir)\n",
        "    if not os.path.exists(parent_dir):\n",
        "        os.makedirs(parent_dir)\n",
        "        print(f\"Created parent directory: {parent_dir}\")\n",
        "    \n",
        "    # Clone the repository if not already present.\n",
        "    if not os.path.exists(target_dir):\n",
        "        subprocess.run([\"git\", \"clone\", repo_url, target_dir], check=True)\n",
        "        print(f\"Repository cloned from {repo_url} into {target_dir}\")\n",
        "    else:\n",
        "        print(f\"Repository already exists at {target_dir}\")\n",
        "    \n",
        "    # Create an empty __init__.py file in the repo root if it doesn't already exist.\n",
        "    init_file = os.path.join(target_dir, '__init__.py')\n",
        "    if not os.path.exists(init_file):\n",
        "        open(init_file, 'w').close()  # This creates an empty file.\n",
        "        print(f\"Empty __init__.py created in {target_dir}\")\n",
        "    else:\n",
        "        print(f\"__init__.py already exists in {target_dir}\")\n",
        "\n",
        "# Clone the zeeguu/api repository.\n",
        "clone_repo(\"https://github.com/zeeguu/api\", API_DIR)\n",
        "\n",
        "# Clone the zeeguu/web repository.\n",
        "clone_repo(\"https://github.com/zeeguu/web\", WEB_DIR)"
      ]
    },
    {
      "cell_type": "markdown",
      "id": "8f7f9edc",
      "metadata": {},
      "source": [
        "# Architectural-Lens"
      ]
    },
    {
      "cell_type": "markdown",
      "id": "0fa694b5",
      "metadata": {},
      "source": [
        "# GitTruck"
      ]
    },
    {
      "cell_type": "markdown",
      "id": "ba1781c4",
      "metadata": {},
      "source": [
        "# Prospector"
      ]
    },
    {
      "cell_type": "markdown",
      "id": "bf3807cc",
      "metadata": {},
      "source": [
        "# Pyan"
      ]
    },
    {
      "cell_type": "markdown",
      "id": "85bca692",
      "metadata": {},
      "source": [
        "# Pyreverse"
      ]
    },
    {
      "cell_type": "markdown",
      "id": "2b682efa",
      "metadata": {},
      "source": [
        "# Radon"
      ]
    },
    {
      "cell_type": "markdown",
      "id": "fffec904",
      "metadata": {},
      "source": [
        "## Basic project setup"
      ]
    },
    {
      "cell_type": "code",
      "execution_count": 9,
      "id": "b00e123a",
      "metadata": {},
      "outputs": [
        {
          "name": "stdout",
          "output_type": "stream",
          "text": [
            "API (Backend) Structure:\n"
          ]
        }
      ],
      "source": [
        "def list_directories(root_dir):\n",
        "    dirs = []\n",
        "    for dirpath, dirnames, _ in os.walk(root_dir):\n",
        "        # Exclude hidden directories\n",
        "        dirnames[:] = [d for d in dirnames if not d.startswith('.')]\n",
        "        dirs.append(os.path.relpath(dirpath, root_dir))\n",
        "    return sorted(dirs)\n",
        "\n",
        "print(\"API (Backend) Structure:\")\n",
        "for d in list_directories(os.path.join('..', 'Data', 'api')):\n",
        "    print(d)"
      ]
    }
  ],
  "metadata": {
    "kernelspec": {
      "display_name": "Python 3",
      "language": "python",
      "name": "python3"
    },
    "language_info": {
      "codemirror_mode": {
        "name": "ipython",
        "version": 3
      },
      "file_extension": ".py",
      "mimetype": "text/x-python",
      "name": "python",
      "nbconvert_exporter": "python",
      "pygments_lexer": "ipython3",
      "version": "3.12.2"
    }
  },
  "nbformat": 4,
  "nbformat_minor": 5
}
