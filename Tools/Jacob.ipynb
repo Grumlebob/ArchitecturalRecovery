{
  "cells": [
    {
      "cell_type": "markdown",
      "id": "e7e5690e",
      "metadata": {},
      "source": [
        "# Non-working tools"
      ]
    },
    {
      "cell_type": "markdown",
      "id": "887a4ede",
      "metadata": {},
      "source": [
        "## Snakefood\n",
        "https://github.com/blais/snakefood\n",
        "\n",
        "Did not work because:\n",
        "\n",
        "\"Python-3.x is NOT supported, but there have been a few efforts to port to it. I never had time to fully port it; it would require a fair bit of a rewrite to do so IMO.\""
      ]
    },
    {
      "cell_type": "markdown",
      "id": "59c51656",
      "metadata": {},
      "source": [
        "## PyCallGraph\n",
        "\n",
        "Couldn't get it to work. Chased down a never-ending rabbithole.\n",
        "\n",
        "1. Can't find entrypoint / main. Most likely due to the complexity of how the project is run.\n",
        "2. If we try to help it and give some modules a main(), it then can't figure out the dependencies\n",
        "3. If we add the dependencies, they haven't been setup properly.\n",
        "4. Setting them up properly is too hard."
      ]
    },
    {
      "cell_type": "markdown",
      "id": "75be1b99",
      "metadata": {},
      "source": [
        "# Initial thoughts\n",
        "\n",
        "We want to start with some raw metrics like count of files, lines of code.\n",
        "This is important to give us some context.\n",
        "Example, if a package consists of 1 file, with 5 lines of code. Then naturally that package will have lower metrics later on, such as cyclomatic dependencies, etc.\n",
        "\n",
        "\n",
        "Some tools need a __init__ So make a empty .py file in API and Frontend."
      ]
    },
    {
      "cell_type": "markdown",
      "id": "27757273",
      "metadata": {},
      "source": [
        "# Dependencies setup"
      ]
    },
    {
      "cell_type": "code",
      "execution_count": 2,
      "id": "157bc737",
      "metadata": {},
      "outputs": [
        {
          "name": "stdout",
          "output_type": "stream",
          "text": [
            "NumPy version 1.26.4 is compatible (version <2).\n",
            "radon is already installed.\n",
            "matplotlib is already installed.\n",
            "pandas is already installed.\n",
            "networkx is already installed.\n",
            "pydot is already installed.\n",
            "squarify is already installed.\n",
            "pylint is already installed.\n",
            "graphviz is already installed.\n",
            "Installing pyan3...\n",
            "prospector is already installed.\n",
            "All packages have been checked and installed as needed.\n"
          ]
        }
      ],
      "source": [
        "import os\n",
        "import sys\n",
        "import subprocess\n",
        "\n",
        "def enforce_numpy_version():\n",
        "    \"\"\"\n",
        "    Ensure that NumPy is installed and is a version below 2.x.\n",
        "    If a 2.x version (or higher) is found, downgrade to a 1.x version\n",
        "    and instruct the user to restart the kernel manually if running interactively.\n",
        "    \"\"\"\n",
        "    try:\n",
        "        import numpy as np\n",
        "        major_version = int(np.__version__.split('.')[0])\n",
        "        if major_version >= 2:\n",
        "            print(f\"Detected NumPy version {np.__version__}. Downgrading to numpy<2...\")\n",
        "            subprocess.check_call([sys.executable, \"-m\", \"pip\", \"install\", \"--upgrade\", \"numpy<2\"])\n",
        "            if \"ipykernel\" in sys.modules:\n",
        "                print(\"Please restart your Jupyter kernel manually after downgrading NumPy.\")\n",
        "                sys.exit(0)\n",
        "            else:\n",
        "                print(\"Restarting the script after downgrading NumPy...\")\n",
        "                os.execv(sys.executable, [sys.executable] + sys.argv)\n",
        "        else:\n",
        "            print(f\"NumPy version {np.__version__} is compatible (version <2).\")\n",
        "    except ImportError:\n",
        "        print(\"NumPy is not installed. Installing numpy<2...\")\n",
        "        subprocess.check_call([sys.executable, \"-m\", \"pip\", \"install\", \"numpy<2\"])\n",
        "        if \"ipykernel\" in sys.modules:\n",
        "            print(\"Please restart your Jupyter kernel manually after installing NumPy.\")\n",
        "            sys.exit(0)\n",
        "        else:\n",
        "            print(\"Restarting the script after installing NumPy...\")\n",
        "            os.execv(sys.executable, [sys.executable] + sys.argv)\n",
        "\n",
        "def install_package(package):\n",
        "    \"\"\"\n",
        "    Try to import a package. If it’s not found, install it using pip.\n",
        "    If pip fails for any reason, catch the exception and print an error message.\n",
        "    \"\"\"\n",
        "    try:\n",
        "        # Replace dashes with underscores in case the module name differs from the package name.\n",
        "        __import__(package.replace('-', '_'))\n",
        "        print(f\"{package} is already installed.\")\n",
        "    except ImportError:\n",
        "        print(f\"Installing {package}...\")\n",
        "        try:\n",
        "            subprocess.check_call([sys.executable, \"-m\", \"pip\", \"install\", package])\n",
        "        except subprocess.CalledProcessError as e:\n",
        "            print(f\"Failed to install {package}. Error: {e}\")\n",
        "\n",
        "if __name__ == \"__main__\":\n",
        "    # Ensure NumPy is compatible before proceeding.\n",
        "    enforce_numpy_version()\n",
        "    \n",
        "    # List of packages to install.\n",
        "    packages = [\n",
        "        'radon',\n",
        "        'matplotlib',\n",
        "        'pandas',\n",
        "        'networkx',\n",
        "        'pydot',\n",
        "        'squarify',\n",
        "        'pylint',\n",
        "        'graphviz',\n",
        "        'pyan3',\n",
        "        'prospector'\n",
        "    ]\n",
        "    \n",
        "    for pkg in packages:\n",
        "        install_package(pkg)\n",
        "    \n",
        "    print(\"All packages have been checked and installed as needed.\")\n"
      ]
    },
    {
      "cell_type": "code",
      "execution_count": 3,
      "id": "0aa14116",
      "metadata": {},
      "outputs": [],
      "source": [
        "import datetime\n",
        "import os\n",
        "import sys\n",
        "import subprocess\n",
        "import json\n",
        "import matplotlib.pyplot as plt\n",
        "from pathlib import Path\n",
        "from collections import defaultdict\n",
        "import networkx as nx"
      ]
    },
    {
      "cell_type": "markdown",
      "id": "7b93304c",
      "metadata": {},
      "source": [
        "# Path setup"
      ]
    },
    {
      "cell_type": "code",
      "execution_count": 4,
      "id": "da716c82",
      "metadata": {},
      "outputs": [],
      "source": [
        "TOOLS_DIR = os.getcwd()  # Expected: ...\\Tools\n",
        "BASE_DIR = os.path.abspath(os.path.join(TOOLS_DIR, '..'))\n",
        "DATA_DIR = os.path.join(BASE_DIR, 'Data')\n",
        "\n",
        "# Our repos to analyse:\n",
        "API_DIR = os.path.join(DATA_DIR, 'api')\n",
        "WEB_DIR = os.path.join(DATA_DIR, 'web')\n",
        "\n",
        "#Tools specific paths:\n",
        "RADON_OUTPUT_DIR = os.path.join(BASE_DIR, 'output', 'radon')\n",
        "os.makedirs(RADON_OUTPUT_DIR, exist_ok=True)"
      ]
    },
    {
      "cell_type": "markdown",
      "id": "bdfe7b4f",
      "metadata": {},
      "source": [
        "# Analyzation project(s) setup"
      ]
    },
    {
      "cell_type": "code",
      "execution_count": 5,
      "id": "b37de714",
      "metadata": {},
      "outputs": [
        {
          "name": "stdout",
          "output_type": "stream",
          "text": [
            "Repository already exists at c:\\Programming\\Architecture\\ArchitecturalRecovery\\Data\\api\n",
            "__init__.py already exists in c:\\Programming\\Architecture\\ArchitecturalRecovery\\Data\\api\n",
            "Repository cloned from https://github.com/zeeguu/web into c:\\Programming\\Architecture\\ArchitecturalRecovery\\Data\\web\n",
            "Empty __init__.py created in c:\\Programming\\Architecture\\ArchitecturalRecovery\\Data\\web\n"
          ]
        }
      ],
      "source": [
        "def clone_repo(repo_url, target_dir):\n",
        "    \"\"\"\n",
        "    Clone a git repository from repo_url into target_dir.\n",
        "    Also create an empty __init__.py file in the repository's root.\n",
        "    \"\"\"\n",
        "    # Ensure the parent directory exists.\n",
        "    parent_dir = os.path.dirname(target_dir)\n",
        "    if not os.path.exists(parent_dir):\n",
        "        os.makedirs(parent_dir)\n",
        "        print(f\"Created parent directory: {parent_dir}\")\n",
        "    \n",
        "    # Clone the repository if not already present.\n",
        "    if not os.path.exists(target_dir):\n",
        "        subprocess.run([\"git\", \"clone\", repo_url, target_dir], check=True)\n",
        "        print(f\"Repository cloned from {repo_url} into {target_dir}\")\n",
        "    else:\n",
        "        print(f\"Repository already exists at {target_dir}\")\n",
        "    \n",
        "    # Create an empty __init__.py file in the repo root if it doesn't already exist.\n",
        "    init_file = os.path.join(target_dir, '__init__.py')\n",
        "    if not os.path.exists(init_file):\n",
        "        open(init_file, 'w').close()  # This creates an empty file.\n",
        "        print(f\"Empty __init__.py created in {target_dir}\")\n",
        "    else:\n",
        "        print(f\"__init__.py already exists in {target_dir}\")\n",
        "\n",
        "# Clone the zeeguu/api repository.\n",
        "clone_repo(\"https://github.com/zeeguu/api\", API_DIR)\n",
        "\n",
        "# Clone the zeeguu/web repository.\n",
        "clone_repo(\"https://github.com/zeeguu/web\", WEB_DIR)"
      ]
    },
    {
      "cell_type": "markdown",
      "id": "2b682efa",
      "metadata": {},
      "source": [
        "# Radon\n",
        "\n",
        "https://pypi.org/project/radon/\n",
        "\n",
        "https://radon.readthedocs.io/en/latest/\n",
        "\n",
        "\n",
        "## Why Radon\n",
        "\n",
        "Radon is a tool i found great for providing code metrics, especially an overview of some of the common raw metrics like lines of code, number of functions, etc. This will give me a great initial overview, of where the work is placed in the project.\n"
      ]
    },
    {
      "cell_type": "code",
      "execution_count": 8,
      "id": "7284ec80",
      "metadata": {},
      "outputs": [
        {
          "data": {
            "image/png": "[encoded data removed]",
            "text/plain": [
              "<Figure size 1000x600 with 1 Axes>"
            ]
          },
          "metadata": {},
          "output_type": "display_data"
        },
        {
          "data": {
            "image/png": "[encoded data removed]",
            "text/plain": [
              "<Figure size 1000x600 with 1 Axes>"
            ]
          },
          "metadata": {},
          "output_type": "display_data"
        },
        {
          "data": {
            "image/png": "[encoded data removed]",
            "text/plain": [
              "<Figure size 1000x600 with 1 Axes>"
            ]
          },
          "metadata": {},
          "output_type": "display_data"
        }
      ],
      "source": [
        "def aggregate_cc_by_package(base_dir):\n",
        "    cmd = [sys.executable, \"-m\", \"radon\", \"cc\", base_dir, \"-j\", \"-s\", \"-a\"]\n",
        "    result = subprocess.run(cmd, capture_output=True, text=True)\n",
        "    data = json.loads(result.stdout)\n",
        "    pkg_data = defaultdict(list)\n",
        "    for filepath, funcs in data.items():\n",
        "        relpath = os.path.relpath(filepath, base_dir)\n",
        "        pkg = relpath.split(os.sep)[0] if os.sep in relpath else \"root\"\n",
        "        for func in funcs:\n",
        "            pkg_data[pkg].append(func[\"complexity\"])\n",
        "    return pkg_data\n",
        "\n",
        "def aggregate_mi_by_package(base_dir):\n",
        "    cmd = [sys.executable, \"-m\", \"radon\", \"mi\", base_dir, \"-j\"]\n",
        "    result = subprocess.run(cmd, capture_output=True, text=True)\n",
        "    data = json.loads(result.stdout)\n",
        "    pkg_data = defaultdict(list)\n",
        "    for filepath, mi_value in data.items():\n",
        "        relpath = os.path.relpath(filepath, base_dir)\n",
        "        pkg = relpath.split(os.sep)[0] if os.sep in relpath else \"root\"\n",
        "        if isinstance(mi_value, dict):\n",
        "            pkg_data[pkg].append(mi_value.get(\"mi\", 0))\n",
        "        else:\n",
        "            pkg_data[pkg].append(mi_value)\n",
        "    return pkg_data\n",
        "\n",
        "def aggregate_raw_by_package(base_dir):\n",
        "    cmd = [sys.executable, \"-m\", \"radon\", \"raw\", base_dir, \"-j\", \"-s\"]\n",
        "    result = subprocess.run(cmd, capture_output=True, text=True)\n",
        "    data = json.loads(result.stdout)\n",
        "    metrics = [\"loc\", \"lloc\", \"sloc\", \"comments\", \"single_comments\", \"multi\", \"blank\"]\n",
        "    pkg_totals = defaultdict(lambda: {metric: 0 for metric in metrics})\n",
        "    pkg_file_count = defaultdict(int)\n",
        "    for filepath, stats in data.items():\n",
        "        relpath = os.path.relpath(filepath, base_dir)\n",
        "        pkg = relpath.split(os.sep)[0] if os.sep in relpath else \"root\"\n",
        "        pkg_file_count[pkg] += 1\n",
        "        for metric in metrics:\n",
        "            pkg_totals[pkg][metric] += stats.get(metric, 0)\n",
        "    return pkg_totals, pkg_file_count\n",
        "\n",
        "# --- Plot Average Cyclomatic Complexity by Package with annotations ---\n",
        "if __name__ == \"__main__\":\n",
        "    \n",
        "    # --- Plot Average LOC per File by Package with annotations ---\n",
        "    raw_pkg, pkg_file_count = aggregate_raw_by_package(API_DIR)\n",
        "    pkg_names_raw = list(raw_pkg.keys())\n",
        "    avg_loc = [raw_pkg[p]['loc'] / pkg_file_count[p] if pkg_file_count[p] else 0 for p in pkg_names_raw]\n",
        "\n",
        "    plt.figure(figsize=(10, 6))\n",
        "    bars = plt.bar(pkg_names_raw, avg_loc, color='orange')\n",
        "    plt.xlabel(\"Package\")\n",
        "    plt.ylabel(\"Average LOC per File\")\n",
        "    plt.title(\"Average LOC per File by Package (API)\")\n",
        "    for bar, pkg in zip(bars, pkg_names_raw):\n",
        "        count = pkg_file_count[pkg]\n",
        "        plt.text(bar.get_x() + bar.get_width()/2, bar.get_height() + 0.1, f\"n={count}\", ha='center', va='bottom', fontsize=10)\n",
        "    plt.tight_layout()\n",
        "    plt.savefig(os.path.join(RADON_OUTPUT_DIR, 'average_loc_by_package.png'))\n",
        "    plt.show()\n",
        "    \n",
        "    # Aggregate cyclomatic complexity data\n",
        "    cc_pkg = aggregate_cc_by_package(API_DIR)\n",
        "    pkg_names = list(cc_pkg.keys())\n",
        "    avg_cc = [sum(cc_pkg[p]) / len(cc_pkg[p]) if cc_pkg[p] else 0 for p in pkg_names]\n",
        "\n",
        "    plt.figure(figsize=(10, 6))\n",
        "    bars = plt.bar(pkg_names, avg_cc, color='purple')\n",
        "    plt.xlabel(\"Package\")\n",
        "    plt.ylabel(\"Average Cyclomatic Complexity\")\n",
        "    plt.title(\"Average CC by Package (API)\")\n",
        "    for bar, pkg in zip(bars, pkg_names):\n",
        "        count = len(cc_pkg[pkg])\n",
        "        plt.text(bar.get_x() + bar.get_width()/2, bar.get_height() + 0.1, f\"n={count}\", ha='center', va='bottom', fontsize=10)\n",
        "    plt.tight_layout()\n",
        "    plt.savefig(os.path.join(RADON_OUTPUT_DIR, 'average_cc_by_package.png'))\n",
        "    plt.show()\n",
        "\n",
        "    # --- Plot Average Maintainability Index by Package with annotations ---\n",
        "    mi_pkg = aggregate_mi_by_package(API_DIR)\n",
        "    pkg_names_mi = list(mi_pkg.keys())\n",
        "    avg_mi = [sum(mi_pkg[p]) / len(mi_pkg[p]) if mi_pkg[p] else 0 for p in pkg_names_mi]\n",
        "\n",
        "    plt.figure(figsize=(10, 6))\n",
        "    bars = plt.bar(pkg_names_mi, avg_mi, color='teal')\n",
        "    plt.xlabel(\"Package\")\n",
        "    plt.ylabel(\"Average Maintainability Index\")\n",
        "    plt.title(\"Average MI by Package (API)\")\n",
        "    for bar, pkg in zip(bars, pkg_names_mi):\n",
        "        count = len(mi_pkg[pkg])\n",
        "        plt.text(bar.get_x() + bar.get_width()/2, bar.get_height() + 0.1, f\"n={count}\", ha='center', va='bottom', fontsize=10)\n",
        "    plt.tight_layout()\n",
        "    plt.savefig(os.path.join(RADON_OUTPUT_DIR, 'average_mi_by_package.png'))\n",
        "    plt.show()\n",
        "\n"
      ]
    },
    {
      "cell_type": "markdown",
      "id": "2d234528",
      "metadata": {},
      "source": [
        "### Intermediate Analysis\n",
        "\n",
        "Here we can quickly see that the root only has 6 functions and few lines of code.\n",
        "Most of the code resides in either /Tools or /Zeeguu, having around 80 lines of code per file, where as Tools consists of 70 functions and zeeguu has the majority of code, containing 282 functions.\n",
        "\n",
        "Besides Lines of Code and number of functions, Radon will also provide:\n",
        "* Cyclomatic Complexity, which looks at number of decisions a block of code contains\n",
        "* Maintainability index. Which is a combination of 4 other metrics https://radon.readthedocs.io/en/latest/intro.html#maintainability-index, being the Halstead index (https://radon.readthedocs.io/en/latest/intro.html#halstead-metrics), which looks at distinct number of operators and operands compared to the total number. As well as the Cyclomatic Complexity, Source Lines of Code (SLOC), and number of comments.\n",
        "\n",
        "We can see that Tools have a higher CC and lower maintainabiltiy index than Zeeguu.\n",
        "\n",
        "So now i want to check the subdirectories in /Tools and /Zeeguu"
      ]
    },
    {
      "cell_type": "markdown",
      "id": "8f7f9edc",
      "metadata": {},
      "source": [
        "# Architectural-Lens"
      ]
    },
    {
      "cell_type": "markdown",
      "id": "0fa694b5",
      "metadata": {},
      "source": [
        "# GitTruck"
      ]
    },
    {
      "cell_type": "markdown",
      "id": "ba1781c4",
      "metadata": {},
      "source": [
        "# Prospector"
      ]
    },
    {
      "cell_type": "markdown",
      "id": "bf3807cc",
      "metadata": {},
      "source": [
        "# Pyan"
      ]
    },
    {
      "cell_type": "markdown",
      "id": "85bca692",
      "metadata": {},
      "source": [
        "# Pyreverse"
      ]
    },
    {
      "cell_type": "markdown",
      "id": "fffec904",
      "metadata": {},
      "source": [
        "## Basic project setup"
      ]
    },
    {
      "cell_type": "code",
      "execution_count": 7,
      "id": "b00e123a",
      "metadata": {},
      "outputs": [
        {
          "name": "stdout",
          "output_type": "stream",
          "text": [
            "API (Backend) Structure:\n",
            ".\n",
            "__pycache__\n",
            "tools\n",
            "tools\\__pycache__\n",
            "tools\\crawl_summary\n",
            "tools\\migrations\n",
            "tools\\old\n",
            "tools\\old\\__pycache__\n",
            "tools\\old\\es_v8_migration\n",
            "tools\\old\\es_v8_migration\\__pycache__\n",
            "tools\\report_generator\n",
            "tools\\sh\n",
            "tools\\sql\n",
            "zeeguu\n",
            "zeeguu\\__pycache__\n",
            "zeeguu\\api\n",
            "zeeguu\\api\\__pycache__\n",
            "zeeguu\\api\\endpoints\n",
            "zeeguu\\api\\endpoints\\__pycache__\n",
            "zeeguu\\api\\endpoints\\helpers\n",
            "zeeguu\\api\\endpoints\\teacher_dashboard\n",
            "zeeguu\\api\\test\n",
            "zeeguu\\api\\test\\__pycache__\n",
            "zeeguu\\api\\utils\n",
            "zeeguu\\cl\n",
            "zeeguu\\config\n",
            "zeeguu\\config\\__pycache__\n",
            "zeeguu\\core\n",
            "zeeguu\\core\\__pycache__\n",
            "zeeguu\\core\\account_management\n",
            "zeeguu\\core\\behavioral_modeling\n",
            "zeeguu\\core\\bookmark_quality\n",
            "zeeguu\\core\\content_cleaning\n",
            "zeeguu\\core\\content_cleaning\\__pycache__\n",
            "zeeguu\\core\\content_cleaning\\data\n",
            "zeeguu\\core\\content_quality\n",
            "zeeguu\\core\\content_recommender\n",
            "zeeguu\\core\\content_retriever\n",
            "zeeguu\\core\\content_retriever\\__pycache__\n",
            "zeeguu\\core\\crowd_translations\n",
            "zeeguu\\core\\definition_of_learned\n",
            "zeeguu\\core\\diagrams\n",
            "zeeguu\\core\\elastic\n",
            "zeeguu\\core\\emailer\n",
            "zeeguu\\core\\exercises\n",
            "zeeguu\\core\\feed_handler\n",
            "zeeguu\\core\\language\n",
            "zeeguu\\core\\language\\services\n",
            "zeeguu\\core\\language\\strategies\n",
            "zeeguu\\core\\ml_models\n",
            "zeeguu\\core\\ml_models\\binary\n",
            "zeeguu\\core\\model\n",
            "zeeguu\\core\\model\\__pycache__\n",
            "zeeguu\\core\\nlp_pipeline\n",
            "zeeguu\\core\\reading_analysis\n",
            "zeeguu\\core\\semantic_search\n",
            "zeeguu\\core\\semantic_search\\__pycache__\n",
            "zeeguu\\core\\semantic_vector_api\n",
            "zeeguu\\core\\sql\n",
            "zeeguu\\core\\sql\\learner\n",
            "zeeguu\\core\\sql\\queries\n",
            "zeeguu\\core\\sql\\teacher\n",
            "zeeguu\\core\\test\n",
            "zeeguu\\core\\test\\__pycache__\n",
            "zeeguu\\core\\test\\rules\n",
            "zeeguu\\core\\test\\test_data\n",
            "zeeguu\\core\\test\\tests_difficulty_estimator_strategies\n",
            "zeeguu\\core\\tokenization\n",
            "zeeguu\\core\\user_activity_hooks\n",
            "zeeguu\\core\\user_statistics\n",
            "zeeguu\\core\\util\n",
            "zeeguu\\core\\word_filter\n",
            "zeeguu\\core\\word_filter\\data\n",
            "zeeguu\\core\\word_filter\\data\\bad-words\n",
            "zeeguu\\core\\word_scheduling\n",
            "zeeguu\\core\\word_scheduling\\adaptive\n",
            "zeeguu\\core\\word_scheduling\\basicSR\n",
            "zeeguu\\core\\word_stats\n",
            "zeeguu\\logging\n"
          ]
        }
      ],
      "source": [
        "def list_directories(root_dir):\n",
        "    dirs = []\n",
        "    for dirpath, dirnames, _ in os.walk(root_dir):\n",
        "        # Exclude hidden directories\n",
        "        dirnames[:] = [d for d in dirnames if not d.startswith('.')]\n",
        "        dirs.append(os.path.relpath(dirpath, root_dir))\n",
        "    return sorted(dirs)\n",
        "\n",
        "print(\"API (Backend) Structure:\")\n",
        "for d in list_directories(os.path.join('..', 'Data', 'api')):\n",
        "    print(d)"
      ]
    }
  ],
  "metadata": {
    "kernelspec": {
      "display_name": "base",
      "language": "python",
      "name": "python3"
    },
    "language_info": {
      "codemirror_mode": {
        "name": "ipython",
        "version": 3
      },
      "file_extension": ".py",
      "mimetype": "text/x-python",
      "name": "python",
      "nbconvert_exporter": "python",
      "pygments_lexer": "ipython3",
      "version": "3.12.4"
    }
  },
  "nbformat": 4,
  "nbformat_minor": 5
}
