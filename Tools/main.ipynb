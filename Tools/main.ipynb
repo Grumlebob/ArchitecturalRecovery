{
  "cells": [
    {
      "cell_type": "markdown",
      "id": "e7e5690e",
      "metadata": {},
      "source": [
        "# Non-working tools"
      ]
    },
    {
      "cell_type": "markdown",
      "id": "887a4ede",
      "metadata": {},
      "source": [
        "## Snakefood\n",
        "https://github.com/blais/snakefood\n",
        "\n",
        "Did not work because:\n",
        "\n",
        "\"Python-3.x is NOT supported, but there have been a few efforts to port to it. I never had time to fully port it; it would require a fair bit of a rewrite to do so IMO.\""
      ]
    },
    {
      "cell_type": "markdown",
      "id": "75be1b99",
      "metadata": {},
      "source": [
        "# Initial thoughts\n",
        "\n",
        "We want to start with some raw metrics like count of files, lines of code.\n",
        "This is important to give us some context.\n",
        "Example, if a package consists of 1 file, with 5 lines of code. Then naturally that package will have lower metrics later on, such as cyclomatic dependencies, etc."
      ]
    }
  ],
  "metadata": {
    "kernelspec": {
      "display_name": "Python 3",
      "language": "python",
      "name": "python3"
    },
    "language_info": {
      "name": "python"
    }
  },
  "nbformat": 4,
  "nbformat_minor": 5
}
