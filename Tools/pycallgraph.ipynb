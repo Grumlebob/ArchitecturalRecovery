{
 "cells": [
  {
   "cell_type": "markdown",
   "metadata": {},
   "source": [
    "# Zeeguu Architecture Reconstruction using PyCallGraph\n",
    "\n",
    "This notebook performs dynamic architecture reconstruction for the Zeeguu project using PyCallGraph. We analyze both the API (backend) and Frontend components to understand their runtime behavior and dependencies.\n",
    "\n",
    "Note: Ensure that [Graphviz](https://graphviz.org/download/) is installed and available on your system PATH. On Windows, you may need to download the installer and add the Graphviz bin folder to your PATH."
   ]
  },
  {
   "cell_type": "code",
   "execution_count": 1,
   "metadata": {},
   "outputs": [],
   "source": [
    "import sys\n",
    "import os\n",
    "\n",
    "# Set the working directory to the notebook's directory (if running in VSCode/Jupyter)\n",
    "notebook_dir = os.path.dirname(os.path.abspath('__file__')) if '__file__' in globals() else os.getcwd()\n",
    "os.chdir(notebook_dir)\n",
    "print(f\"Working directory set to: {os.getcwd()}\")\n",
    "\n",
    "# Function to install packages using the current Python interpreter\n",
    "def install_package(package):\n",
    "    try:\n",
    "        __import__(package)\n",
    "        print(f\"{package} is already installed.\")\n",
    "    except ImportError:\n",
    "        print(f\"Installing {package}...\")\n",
    "        !\"{sys.executable}\" -m pip install {package}\n",
    "\n",
    "# Install required packages\n",
    "install_package('pycallgraph2')\n",
    "install_package('matplotlib')\n",
    "install_package('networkx')\n",
    "\n",
    "# Reminder: Ensure Graphviz is installed on your system for generating graphs."
   ]
  },
  {
   "cell_type": "code",
   "execution_count": 2,
   "metadata": {},
   "outputs": [],
   "source": [
    "# Import necessary libraries\n",
    "import importlib\n",
    "import matplotlib.pyplot as plt\n",
    "import networkx as nx\n",
    "\n",
    "try:\n",
    "    from pycallgraph2 import PyCallGraph\n",
    "    from pycallgraph2.output import GraphvizOutput\n",
    "    from pycallgraph2.config import Config\n",
    "    from pycallgraph2.globbing_filter import GlobbingFilter\n",
    "except ImportError as e:\n",
    "    print(\"Error: pycallgraph2 module not found. Make sure it is installed and restart the kernel.\")\n",
    "    raise e"
   ]
  },
  {
   "cell_type": "markdown",
   "metadata": {},
   "source": [
    "## 1. Setup and Path Management\n",
    "\n",
    "Define functions to set up paths so that the Zeeguu projects can be found. We assume the projects are in `Data/api` and `Data/frontend` relative to the project root."
   ]
  },
  {
   "cell_type": "code",
   "execution_count": 3,
   "metadata": {},
   "outputs": [
    {
     "name": "stdout",
     "output_type": "stream",
     "text": [
      "API path: ...\\Data\\api\n",
      "Frontend path: ...\\Data\\frontend\n"
     ]
    }
   ],
   "source": [
    "def setup_paths():\n",
    "    \"\"\"Set up paths to Zeeguu API and Frontend projects\"\"\"\n",
    "    current_dir = os.getcwd()\n",
    "    \n",
    "    # Navigate to the parent directory of Tools if needed\n",
    "    if os.path.basename(current_dir).lower() == 'tools':\n",
    "        parent_dir = os.path.dirname(current_dir)\n",
    "    else:\n",
    "        parent_dir = current_dir\n",
    "    \n",
    "    api_path = os.path.join(parent_dir, 'Data', 'api')\n",
    "    frontend_path = os.path.join(parent_dir, 'Data', 'frontend')\n",
    "    \n",
    "    if not os.path.exists(api_path):\n",
    "        print(f\"Warning: API path not found at {api_path}\")\n",
    "    if not os.path.exists(frontend_path):\n",
    "        print(f\"Warning: Frontend path not found at {frontend_path}\")\n",
    "    \n",
    "    # Add paths to sys.path for module imports\n",
    "    if api_path not in sys.path:\n",
    "        sys.path.append(api_path)\n",
    "    if frontend_path not in sys.path:\n",
    "        sys.path.append(frontend_path)\n",
    "    \n",
    "    return api_path, frontend_path\n",
    "\n",
    "api_path, frontend_path = setup_paths()\n",
    "print(f\"API path: {api_path}\")\n",
    "print(f\"Frontend path: {frontend_path}\")"
   ]
  },
  {
   "cell_type": "markdown",
   "metadata": {},
   "source": [
    "## 2. PyCallGraph Basic Configuration\n",
    "\n",
    "Configure PyCallGraph to focus on the modules of interest by filtering based on module prefixes."
   ]
  },
  {
   "cell_type": "code",
   "execution_count": 4,
   "metadata": {},
   "outputs": [],
   "source": [
    "def configure_pycallgraph(module_prefix):\n",
    "    \"\"\"Configure PyCallGraph to include only modules with the given prefix\"\"\"\n",
    "    config = Config()\n",
    "    config.trace_filter = GlobbingFilter(include=[f\"{module_prefix}*\"])\n",
    "    \n",
    "    graphviz = GraphvizOutput(\n",
    "        output_file=f\"{module_prefix}_call_graph.png\",\n",
    "        font_size=10,\n",
    "        node_color=lambda func_name: 'red' if func_name.startswith(module_prefix) else 'grey',\n",
    "        edge_color=lambda from_func, to_func: 'black',\n",
    "        drawer='dot'  \n",
    "    )\n",
    "    \n",
    "    return config, graphviz"
   ]
  },
  {
   "cell_type": "markdown",
   "metadata": {},
   "source": [
    "## 3. Scanning the Project Structure\n",
    "\n",
    "Identify Python modules in both the API and Frontend projects to understand the project structure."
   ]
  },
  {
   "cell_type": "code",
   "execution_count": 5,
   "metadata": {},
   "outputs": [
    {
     "name": "stdout",
     "output_type": "stream",
     "text": [
      "Found X modules in API project\n",
      "Found Y modules in Frontend project\n",
      "\n",
      "Example API modules:\n",
      "  - module1\n",
      "  - module2\n",
      "\n",
      "Example Frontend modules:\n",
      "  - moduleA\n",
      "  - moduleB\n"
     ]
    }
   ],
   "source": [
    "def scan_project_structure(project_path, exclusions=None):\n",
    "    \"\"\"Scan a project directory to find Python modules\"\"\"\n",
    "    if exclusions is None:\n",
    "        exclusions = ['__pycache__', '.git', '.venv', 'env', 'venv', 'tests']\n",
    "    \n",
    "    modules = []\n",
    "    \n",
    "    for root, dirs, files in os.walk(project_path):\n",
    "        dirs[:] = [d for d in dirs if d not in exclusions]\n",
    "        for file in files:\n",
    "            if file.endswith('.py'):\n",
    "                rel_path = os.path.relpath(os.path.join(root, file), project_path)\n",
    "                module_path = os.path.splitext(rel_path.replace(os.sep, '.'))[0]\n",
    "                modules.append(module_path)\n",
    "    \n",
    "    modules.sort()\n",
    "    return modules\n",
    "\n",
    "api_modules = scan_project_structure(api_path)\n",
    "frontend_modules = scan_project_structure(frontend_path)\n",
    "\n",
    "print(f\"Found {len(api_modules)} modules in API project\")\n",
    "print(f\"Found {len(frontend_modules)} modules in Frontend project\")\n",
    "\n",
    "print(\"\\nExample API modules:\")\n",
    "for module in api_modules[:10]:\n",
    "    print(f\"  - {module}\")\n",
    "\n",
    "print(\"\\nExample Frontend modules:\")\n",
    "for module in frontend_modules[:10]:\n",
    "    print(f\"  - {module}\")"
   ]
  },
  {
   "cell_type": "markdown",
   "metadata": {},
   "source": [
    "## 4. Identify Main Modules/Entry Points\n",
    "\n",
    "We search for common patterns (like `app`, `main`, `run`, etc.) to identify potential entry points for the projects."
   ]
  },
  {
   "cell_type": "code",
   "execution_count": 6,
   "metadata": {},
   "outputs": [
    {
     "name": "stdout",
     "output_type": "stream",
     "text": [
      "Potential API entry points:\n",
      "  - ...\n",
      "\n",
      "Potential Frontend entry points:\n",
      "  - ...\n"
     ]
    }
   ],
   "source": [
    "def identify_entry_points(modules):\n",
    "    \"\"\"Identify potential entry points in a list of modules\"\"\"\n",
    "    entry_candidates = []\n",
    "    \n",
    "    for module in modules:\n",
    "        if any(pattern in module.lower() for pattern in ['app', 'main', 'run', 'server', 'api', 'wsgi']):\n",
    "            entry_candidates.append(module)\n",
    "    \n",
    "    return entry_candidates\n",
    "\n",
    "api_entry_points = identify_entry_points(api_modules)\n",
    "frontend_entry_points = identify_entry_points(frontend_modules)\n",
    "\n",
    "print(\"Potential API entry points:\")\n",
    "for entry in api_entry_points:\n",
    "    print(f\"  - {entry}\")\n",
    "\n",
    "print(\"\\nPotential Frontend entry points:\")\n",
    "for entry in frontend_entry_points:\n",
    "    print(f\"  - {entry}\")"
   ]
  },
  {
   "cell_type": "markdown",
   "metadata": {},
   "source": [
    "## 5. Package Hierarchy Analysis\n",
    "\n",
    "Extract and visualize the package hierarchy using NetworkX and Matplotlib."
   ]
  },
  {
   "cell_type": "code",
   "execution_count": 7,
   "metadata": {},
   "outputs": [],
   "source": [
    "def extract_package_hierarchy(modules):\n",
    "    \"\"\"Extract package hierarchy from a list of modules\"\"\"\n",
    "    packages = {}\n",
    "    for module in modules:\n",
    "        parts = module.split('.')\n",
    "        current = packages\n",
    "        for part in parts:\n",
    "            if part not in current:\n",
    "                current[part] = {}\n",
    "            current = current[part]\n",
    "    return packages\n",
    "\n",
    "def visualize_package_hierarchy(packages, name=\"package_hierarchy\"):\n",
    "    \"\"\"Create a graph visualization of the package hierarchy\"\"\"\n",
    "    G = nx.DiGraph()\n",
    "    \n",
    "    def add_nodes_edges(current_pkg, parent=None):\n",
    "        for pkg_name, children in current_pkg.items():\n",
    "            G.add_node(pkg_name)\n",
    "            if parent:\n",
    "                G.add_edge(parent, pkg_name)\n",
    "            add_nodes_edges(children, pkg_name)\n",
    "    \n",
    "    add_nodes_edges(packages)\n",
    "    \n",
    "    plt.figure(figsize=(12, 10))\n",
    "    pos = nx.spring_layout(G, k=0.15, iterations=20)\n",
    "    nx.draw(G, pos, with_labels=True, node_color='lightblue', \n",
    "            font_size=10, node_size=2000, alpha=0.8)\n",
    "    plt.title(f\"{name.capitalize()} Hierarchy\")\n",
    "    plt.savefig(f\"{name}.png\")\n",
    "    plt.show()\n",
    "\n",
    "api_packages = extract_package_hierarchy(api_modules)\n",
    "frontend_packages = extract_package_hierarchy(frontend_modules)\n",
    "\n",
    "visualize_package_hierarchy(api_packages, \"api_package_hierarchy\")\n",
    "visualize_package_hierarchy(frontend_packages, \"frontend_package_hierarchy\")"
   ]
  },
  {
   "cell_type": "markdown",
   "metadata": {},
   "source": [
    "## 6. Dynamic Analysis with PyCallGraph\n",
    "\n",
    "Generate call graphs for key modules using PyCallGraph. This cell defines a function to run the analysis on a specified module."
   ]
  },
  {
   "cell_type": "code",
   "execution_count": 8,
   "metadata": {},
   "outputs": [],
   "source": [
    "def run_pycallgraph_on_module(module_name, project_path):\n",
    "    \"\"\"Run PyCallGraph on a specific module\"\"\"\n",
    "    root_package = module_name.split('.')[0]\n",
    "    config, graphviz = configure_pycallgraph(root_package)\n",
    "    \n",
    "    if project_path not in sys.path:\n",
    "        sys.path.insert(0, project_path)\n",
    "    \n",
    "    try:\n",
    "        print(f\"Attempting to import {module_name}...\")\n",
    "        module = importlib.import_module(module_name)\n",
    "        \n",
    "        with PyCallGraph(output=graphviz, config=config):\n",
    "            if hasattr(module, 'main'):\n",
    "                print(f\"Executing {module_name}.main()\")\n",
    "                module.main()\n",
    "            else:\n",
    "                print(f\"Module {module_name} has no main() function, executing module directly\")\n",
    "        \n",
    "        print(f\"Call graph generated: {root_package}_call_graph.png\")\n",
    "        return True\n",
    "    except Exception as e:\n",
    "        print(f\"Error processing module {module_name}: {str(e)}\")\n",
    "        return False\n",
    "\n",
    "def analyze_multiple_modules(entry_points, project_path, max_modules=5):\n",
    "    \"\"\"Try to analyze multiple entry points\"\"\"\n",
    "    successful = 0\n",
    "    for i, module in enumerate(entry_points):\n",
    "        if i >= max_modules:\n",
    "            break\n",
    "        print(f\"\\nAnalyzing module {i+1}/{min(len(entry_points), max_modules)}: {module}\")\n",
    "        if run_pycallgraph_on_module(module, project_path):\n",
    "            successful += 1\n",
    "    print(f\"\\nAnalysis complete. Successfully analyzed {successful}/{min(len(entry_points), max_modules)} modules.\")\n",
    "\n",
    "print(\"Analyzing API modules:\")\n",
    "analyze_multiple_modules(api_entry_points, api_path)\n",
    "\n",
    "print(\"\\nAnalyzing Frontend modules:\")\n",
    "analyze_multiple_modules(frontend_entry_points, frontend_path)"
   ]
  },
  {
   "cell_type": "markdown",
   "metadata": {},
   "source": [
    "## 7. Function Tracing\n",
    "\n",
    "Trace specific functions to better understand execution flow. Use this helper to generate call graphs for individual functions."
   ]
  },
  {
   "cell_type": "code",
   "execution_count": 9,
   "metadata": {},
   "outputs": [],
   "source": [
    "def trace_specific_function(module_name, function_name, project_path, args=None):\n",
    "    \"\"\"Trace a specific function using PyCallGraph\"\"\"\n",
    "    if args is None:\n",
    "        args = []\n",
    "    root_package = module_name.split('.')[0]\n",
    "    config, graphviz = configure_pycallgraph(root_package)\n",
    "    graphviz.output_file = f\"{module_name}_{function_name}_call_graph.png\"\n",
    "    \n",
    "    if project_path not in sys.path:\n",
    "        sys.path.insert(0, project_path)\n",
    "    \n",
    "    try:\n",
    "        module = importlib.import_module(module_name)\n",
    "        function = getattr(module, function_name)\n",
    "        with PyCallGraph(output=graphviz, config=config):\n",
    "            result = function(*args)\n",
    "        print(f\"Function traced: {module_name}.{function_name}\")\n",
    "        print(f\"Call graph generated: {graphviz.output_file}\")\n",
    "        return True\n",
    "    except Exception as e:\n",
    "        print(f\"Error tracing function {module_name}.{function_name}: {str(e)}\")\n",
    "        return False"
   ]
  },
  {
   "cell_type": "markdown",
   "metadata": {},
   "source": [
    "## 8. Module Structure Analysis\n",
    "\n",
    "Analyze a module to list its functions and classes. This helps identify key components even when the module is not directly executable."
   ]
  },
  {
   "cell_type": "code",
   "execution_count": 10,
   "metadata": {},
   "outputs": [],
   "source": [
    "def analyze_module_structure(module_name, project_path):\n",
    "    \"\"\"Analyze the structure of a module to identify its functions and classes\"\"\"\n",
    "    if project_path not in sys.path:\n",
    "        sys.path.insert(0, project_path)\n",
    "    try:\n",
    "        module = importlib.import_module(module_name)\n",
    "        attrs = dir(module)\n",
    "        classes = []\n",
    "        functions = []\n",
    "        for attr in attrs:\n",
    "            if attr.startswith('_'):\n",
    "                continue\n",
    "            attr_value = getattr(module, attr)\n",
    "            if isinstance(attr_value, type):\n",
    "                classes.append(attr)\n",
    "            elif callable(attr_value):\n",
    "                functions.append(attr)\n",
    "        print(f\"\\nModule: {module_name}\")\n",
    "        print(f\"Classes ({len(classes)}): {', '.join(classes)}\")\n",
    "        print(f\"Functions ({len(functions)}): {', '.join(functions)}\")\n",
    "        return classes, functions\n",
    "    except Exception as e:\n",
    "        print(f\"Error analyzing module {module_name}: {str(e)}\")\n",
    "        return [], []\n",
    "\n",
    "# Example analysis on key modules (customize filters as needed)\n",
    "api_key_modules = [mod for mod in api_modules if 'model' in mod.lower() or 'api' in mod.lower()]\n",
    "frontend_key_modules = [mod for mod in frontend_modules if 'view' in mod.lower() or 'component' in mod.lower()]\n",
    "\n",
    "print(\"Analyzing key API modules:\")\n",
    "for module in api_key_modules[:5]:\n",
    "    analyze_module_structure(module, api_path)\n",
    "\n",
    "print(\"\\nAnalyzing key Frontend modules:\")\n",
    "for module in frontend_key_modules[:5]:\n",
    "    analyze_module_structure(module, frontend_path)"
   ]
  },
  {
   "cell_type": "markdown",
   "metadata": {},
   "source": [
    "## 9. Test File Analysis\n",
    "\n",
    "Identify and analyze test files to gain further insight into the architecture."
   ]
  },
  {
   "cell_type": "code",
   "execution_count": 11,
   "metadata": {},
   "outputs": [
    {
     "name": "stdout",
     "output_type": "stream",
     "text": [
      "Found X test files in API project\n",
      "Found Y test files in Frontend project\n",
      "\n",
      "Example API test files:\n",
      "  - test_module1\n",
      "  - test_module2\n",
      "\n",
      "Example Frontend test files:\n",
      "  - test_moduleA\n",
      "  - test_moduleB\n"
     ]
    }
   ],
   "source": [
    "def find_test_files(project_path):\n",
    "    \"\"\"Find all test files in a project\"\"\"\n",
    "    test_files = []\n",
    "    for root, dirs, files in os.walk(project_path):\n",
    "        for file in files:\n",
    "            if file.startswith('test_') and file.endswith('.py'):\n",
    "                rel_path = os.path.relpath(os.path.join(root, file), project_path)\n",
    "                module_path = os.path.splitext(rel_path.replace(os.sep, '.'))[0]\n",
    "                test_files.append(module_path)\n",
    "    return test_files\n",
    "\n",
    "api_test_files = find_test_files(api_path)\n",
    "frontend_test_files = find_test_files(frontend_path)\n",
    "\n",
    "print(f\"Found {len(api_test_files)} test files in API project\")\n",
    "print(f\"Found {len(frontend_test_files)} test files in Frontend project\")\n",
    "\n",
    "print(\"\\nExample API test files:\")\n",
    "for test in api_test_files[:5]:\n",
    "    print(f\"  - {test}\")\n",
    "\n",
    "print(\"\\nExample Frontend test files:\")\n",
    "for test in frontend_test_files[:5]:\n",
    "    print(f\"  - {test}\")"
   ]
  },
  {
   "cell_type": "markdown",
   "metadata": {},
   "source": [
    "## 10. Generate Call Graphs from Test Files\n",
    "\n",
    "Trace test executions to generate call graphs for further architectural insights."
   ]
  },
  {
   "cell_type": "code",
   "execution_count": 12,
   "metadata": {},
   "outputs": [],
   "source": [
    "def analyze_test_file(test_module, project_path):\n",
    "    \"\"\"Run a test module and generate a call graph to understand architecture\"\"\"\n",
    "    root_package = test_module.split('.')[0]\n",
    "    config = Config()\n",
    "    config.trace_filter = GlobbingFilter(include=[f\"{root_package}*\"], exclude=[\"*.test_*\"])\n",
    "    \n",
    "    graphviz = GraphvizOutput(\n",
    "        output_file=f\"{test_module}_call_graph.png\",\n",
    "        font_size=8,\n",
    "        node_color=lambda func_name: 'red' if root_package in func_name else 'grey',\n",
    "        edge_color=lambda caller, callee: 'black',\n",
    "        drawer='dot'\n",
    "    )\n",
    "    \n",
    "    if project_path not in sys.path:\n",
    "        sys.path.insert(0, project_path)\n",
    "    \n",
    "    try:\n",
    "        print(f\"Attempting to import {test_module}...\")\n",
    "        module = importlib.import_module(test_module)\n",
    "        \n",
    "        with PyCallGraph(output=graphviz, config=config):\n",
    "            import pytest\n",
    "            pytest.main(['-xvs', os.path.join(project_path, test_module.replace('.', os.sep) + '.py')])\n",
    "        \n",
    "        print(f\"Call graph generated: {test_module}_call_graph.png\")\n",
    "        return True\n",
    "    except Exception as e:\n",
    "        print(f\"Error processing test module {test_module}: {str(e)}\")\n",
    "        return False\n",
    "\n",
    "print(\"Analyzing API test files:\")\n",
    "for test in api_test_files[:3]:\n",
    "    analyze_test_file(test, api_path)\n",
    "\n",
    "print(\"\\nAnalyzing Frontend test files:\")\n",
    "for test in frontend_test_files[:3]:\n",
    "    analyze_test_file(test, frontend_path)"
   ]
  }
 ],
 "metadata": {
  "kernelspec": {
   "display_name": "base",
   "language": "python",
   "name": "python3"
  },
  "language_info": {
   "name": "python",
   "version": "3.x"
  }
 },
 "nbformat": 4,
 "nbformat_minor": 4
}
