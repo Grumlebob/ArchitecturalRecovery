{
 "cells": [
  {
   "cell_type": "markdown",
   "metadata": {},
   "source": [
    "# GitTruck: Git History Analysis for Architectural Evolution\n",
    "\n",
    "This notebook demonstrates how to analyze your project's Git history to understand how its architecture has evolved over time. We focus on commit activity in the `dataapi` and `datafrontend` directories."
   ]
  },
  {
   "cell_type": "markdown",
   "metadata": {},
   "source": [
    "## Use Cases\n",
    "- **Commit Frequency Analysis:** Identify periods with heavy commit activity that may signal major refactoring or architectural changes.\n",
    "- **File Change Trends:** Understand which parts of the codebase are most active by analyzing changes in the number of files modified per commit.\n",
    "- **Commit Message Keyword Analysis:** Extract insights by parsing commit messages for keywords related to architectural decisions or refactoring efforts.\n",
    "- **Historical Impact:** Correlate commit trends with major architectural shifts over time."
   ]
  },
  {
   "cell_type": "code",
   "execution_count": null,
   "metadata": {},
   "outputs": [],
   "source": [
    "# Install required packages\n",
    "!pip install GitPython matplotlib"
   ]
  },
  {
   "cell_type": "markdown",
   "metadata": {},
   "source": [
    "## Analyze Git Commit History\n",
    "The following cell uses GitPython to count commits per month for the specified directories (`dataapi` and `datafrontend`) and then plots the results."
   ]
  },
  {
   "cell_type": "code",
   "execution_count": null,
   "metadata": {},
   "outputs": [],
   "source": [
    "import git\n",
    "import matplotlib.pyplot as plt\n",
    "from collections import defaultdict\n",
    "import datetime\n",
    "\n",
    "# Initialize the repository (assumes current directory is the project root)\n",
    "repo = git.Repo('.')\n",
    "\n",
    "def get_commit_counts(path):\n",
    "    counts = defaultdict(int)\n",
    "    commits = list(repo.iter_commits(paths=path))\n",
    "    for commit in commits:\n",
    "        dt = datetime.datetime.fromtimestamp(commit.committed_date)\n",
    "        month = dt.strftime('%Y-%m')\n",
    "        counts[month] += 1\n",
    "    return counts\n",
    "\n",
    "# Analyze commit history for backend and frontend directories\n",
    "api_counts = get_commit_counts('dataapi')\n",
    "frontend_counts = get_commit_counts('datafrontend')\n",
    "\n",
    "# Prepare data for plotting\n",
    "months = sorted(set(list(api_counts.keys()) + list(frontend_counts.keys())))\n",
    "api_values = [api_counts.get(month, 0) for month in months]\n",
    "frontend_values = [frontend_counts.get(month, 0) for month in months]\n",
    "\n",
    "# Plot commit frequency over time\n",
    "plt.figure(figsize=(10, 5))\n",
    "plt.plot(months, api_values, label='Backend (dataapi)', marker='o')\n",
    "plt.plot(months, frontend_values, label='Frontend (datafrontend)', marker='o')\n",
    "plt.xticks(rotation=45)\n",
    "plt.xlabel('Month')\n",
    "plt.ylabel('Number of Commits')\n",
    "plt.title('Git Commit Frequency Over Time')\n",
    "plt.legend()\n",
    "plt.tight_layout()\n",
    "plt.show()"
   ]
  },
  {
   "cell_type": "markdown",
   "metadata": {},
   "source": [
    "## File Change Trends Analysis\n",
    "This section calculates the average number of files changed per commit over time for the specified directories. High averages may indicate significant refactoring or module restructuring."
   ]
  },
  {
   "cell_type": "code",
   "execution_count": null,
   "metadata": {},
   "outputs": [],
   "source": [
    "def get_file_change_trends(path):\n",
    "    changes = defaultdict(list)\n",
    "    commits = list(repo.iter_commits(paths=path))\n",
    "    for commit in commits:\n",
    "        dt = datetime.datetime.fromtimestamp(commit.committed_date)\n",
    "        month = dt.strftime('%Y-%m')\n",
    "        try:\n",
    "            # Get the number of files changed in this commit\n",
    "            file_changes = commit.stats.total.get('files', 0)\n",
    "        except Exception as e:\n",
    "            file_changes = 0\n",
    "        changes[month].append(file_changes)\n",
    "    \n",
    "    # Calculate average file changes per month\n",
    "    avg_changes = {month: sum(changes[month]) / len(changes[month]) for month in changes if changes[month]}\n",
    "    return avg_changes\n",
    "\n",
    "api_file_changes = get_file_change_trends('dataapi')\n",
    "frontend_file_changes = get_file_change_trends('datafrontend')\n",
    "\n",
    "# Prepare data for plotting file change trends\n",
    "all_months = sorted(set(list(api_file_changes.keys()) + list(frontend_file_changes.keys())))\n",
    "api_avg = [api_file_changes.get(month, 0) for month in all_months]\n",
    "frontend_avg = [frontend_file_changes.get(month, 0) for month in all_months]\n",
    "\n",
    "plt.figure(figsize=(10, 5))\n",
    "plt.plot(all_months, api_avg, label='Backend (dataapi)', marker='s')\n",
    "plt.plot(all_months, frontend_avg, label='Frontend (datafrontend)', marker='s')\n",
    "plt.xticks(rotation=45)\n",
    "plt.xlabel('Month')\n",
    "plt.ylabel('Average Files Changed per Commit')\n",
    "plt.title('File Change Trends Over Time')\n",
    "plt.legend()\n",
    "plt.tight_layout()\n",
    "plt.show()"
   ]
  },
  {
   "cell_type": "markdown",
   "metadata": {},
   "source": [
    "## Commit Message Keyword Analysis\n",
    "In this analysis we search commit messages for keywords related to architectural changes and refactoring. This helps highlight moments when the project’s design was likely influenced by major decisions.\n",
    "\n",
    "Keywords include: **refactor**, **architect**, **modular**, **pattern**, **anti-pattern**, **cleanup**, **performance**, **scalability**."
   ]
  },
  {
   "cell_type": "code",
   "execution_count": null,
   "metadata": {},
   "outputs": [],
   "source": [
    "def analyze_commit_messages(path, keywords):\n",
    "    keyword_counts = defaultdict(int)\n",
    "    commits = list(repo.iter_commits(paths=path))\n",
    "    for commit in commits:\n",
    "        msg = commit.message.lower()\n",
    "        for keyword in keywords:\n",
    "            if keyword in msg:\n",
    "                keyword_counts[keyword] += 1\n",
    "    return keyword_counts\n",
    "\n",
    "keywords = [\"refactor\", \"architect\", \"modular\", \"pattern\", \"anti-pattern\", \"cleanup\", \"performance\", \"scalability\"]\n",
    "\n",
    "# Analyze commit messages for backend and frontend\n",
    "api_keyword_counts = analyze_commit_messages('dataapi', keywords)\n",
    "frontend_keyword_counts = analyze_commit_messages('datafrontend', keywords)\n",
    "\n",
    "# Plot keyword frequencies as bar charts\n",
    "def plot_keyword_counts(keyword_counts, title):\n",
    "    keys = list(keyword_counts.keys())\n",
    "    values = [keyword_counts[k] for k in keys]\n",
    "    \n",
    "    plt.figure(figsize=(8, 4))\n",
    "    plt.bar(keys, values, color='skyblue')\n",
    "    plt.xlabel('Keyword')\n",
    "    plt.ylabel('Occurrences')\n",
    "    plt.title(title)\n",
    "    plt.tight_layout()\n",
    "    plt.show()\n",
    "\n",
    "plot_keyword_counts(api_keyword_counts, 'Backend (dataapi) Commit Message Keywords')\n",
    "plot_keyword_counts(frontend_keyword_counts, 'Frontend (datafrontend) Commit Message Keywords')"
   ]
  },
  {
   "cell_type": "markdown",
   "id": "d5bcd33e",
   "metadata": {},
   "source": [
    "## Additional Interesting Cases\n",
    "In this section we implement further analyses to deepen our understanding of the architectural evolution:\n",
    "\n",
    "1. **Commits by Author:** Identify which authors are driving changes by counting the number of commits per author.\n",
    "2. **Issue Reference Extraction:** Extract issue references (e.g., `#123`) from commit messages and visualize their frequency."
   ]
  },
  {
   "cell_type": "code",
   "execution_count": null,
   "id": "840a47d4",
   "metadata": {},
   "outputs": [],
   "source": [
    "from collections import Counter\n",
    "import re\n",
    "\n",
    "### Interesting Case 1: Commits by Author Analysis\n",
    "def analyze_commits_by_author(path):\n",
    "    authors = Counter()\n",
    "    commits = list(repo.iter_commits(paths=path))\n",
    "    for commit in commits:\n",
    "        authors[commit.author.name] += 1\n",
    "    return authors\n",
    "\n",
    "def plot_authors(author_counts, title):\n",
    "    authors = list(author_counts.keys())\n",
    "    counts = list(author_counts.values())\n",
    "    plt.figure(figsize=(8, 4))\n",
    "    plt.bar(authors, counts, color='lightgreen')\n",
    "    plt.xlabel('Author')\n",
    "    plt.ylabel('Number of Commits')\n",
    "    plt.title(title)\n",
    "    plt.xticks(rotation=45)\n",
    "    plt.tight_layout()\n",
    "    plt.show()\n",
    "\n",
    "# Analyze and plot commits by author for backend and frontend\n",
    "api_authors = analyze_commits_by_author('dataapi')\n",
    "frontend_authors = analyze_commits_by_author('datafrontend')\n",
    "\n",
    "plot_authors(api_authors, 'Commits by Author - Backend (dataapi)')\n",
    "plot_authors(frontend_authors, 'Commits by Author - Frontend (datafrontend)')\n",
    "\n",
    "### Interesting Case 2: Issue Reference Extraction\n",
    "def analyze_issue_references(path):\n",
    "    issue_counts = defaultdict(int)\n",
    "    issue_commits = defaultdict(list)\n",
    "    commits = list(repo.iter_commits(paths=path))\n",
    "    for commit in commits:\n",
    "        issues = re.findall(r\"#(\\d+)\", commit.message)\n",
    "        for issue in issues:\n",
    "            issue_counts[issue] += 1\n",
    "            issue_commits[issue].append(commit.hexsha[:7])\n",
    "    return issue_counts, issue_commits\n",
    "\n",
    "# Analyze issue references for backend and frontend\n",
    "api_issue_counts, api_issue_commits = analyze_issue_references('dataapi')\n",
    "frontend_issue_counts, frontend_issue_commits = analyze_issue_references('datafrontend')\n",
    "\n",
    "def plot_issue_counts(issue_counts, title):\n",
    "    issues = list(issue_counts.keys())\n",
    "    counts = [issue_counts[k] for k in issues]\n",
    "    plt.figure(figsize=(8, 4))\n",
    "    plt.bar(issues, counts, color='coral')\n",
    "    plt.xlabel('Issue ID')\n",
    "    plt.ylabel('Number of References')\n",
    "    plt.title(title)\n",
    "    plt.xticks(rotation=45)\n",
    "    plt.tight_layout()\n",
    "    plt.show()\n",
    "\n",
    "plot_issue_counts(api_issue_counts, 'Issue References in Backend (dataapi)')\n",
    "plot_issue_counts(frontend_issue_counts, 'Issue References in Frontend (datafrontend)')\n",
    "\n",
    "# Print sample commits for one issue (if available)\n",
    "if api_issue_commits:\n",
    "    sample_issue = list(api_issue_commits.keys())[0]\n",
    "    print(f\"Backend: Sample commits referencing issue #{sample_issue}:\", api_issue_commits[sample_issue])\n",
    "if frontend_issue_commits:\n",
    "    sample_issue = list(frontend_issue_commits.keys())[0]\n",
    "    print(f\"Frontend: Sample commits referencing issue #{sample_issue}:\", frontend_issue_commits[sample_issue])"
   ]
  },
  {
   "cell_type": "markdown",
   "id": "6b4ad05f",
   "metadata": {},
   "source": [
    "## Interesting Cases Summary\n",
    "Inspect the above visualizations and printed samples. The commits-by-author charts help identify key contributors driving architectural changes, while the issue reference analysis can pinpoint commits tied to feature requests or bug fixes (often reflected in the issue IDs). These additional insights can be combined with the earlier analyses to form a more comprehensive picture of your project's evolution."
   ]
  }
 ],
 "metadata": {
  "kernelspec": {
   "display_name": "Python 3",
   "language": "python",
   "name": "python3"
  },
  "language_info": {
   "name": "python"
  }
 },
 "nbformat": 4,
 "nbformat_minor": 5
}
