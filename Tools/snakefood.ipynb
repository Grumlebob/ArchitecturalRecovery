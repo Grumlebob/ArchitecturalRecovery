{
 "cells": [
  {
   "cell_type": "markdown",
   "metadata": {},
   "source": [
    "# Architecture Reconstruction of Zeeguu using Snakefood\n",
    "\n",
    "This notebook performs an architecture reconstruction of the Zeeguu system using **Snakefood**. The system is composed of two parts:\n",
    "\n",
    "- **Zeeguu-API:** Located in `Data/api`\n",
    "- **Zeeguu-Frontend:** Located in `Data/frontend`\n",
    "\n",
    "The notebook generates module dependency graphs and provides a high-level architectural view to support analysis and potential reengineering.\n",
    "\n",
    "**Note for Windows 11 Users:**\n",
    "\n",
    "- Ensure that the Python environment used by VSCode includes the Scripts directory in your PATH so that commands like `sfood` are recognized.\n",
    "- Make sure Graphviz is installed on your system (download from [graphviz.org](https://graphviz.org/download/)) and its bin directory is added to your PATH.\n",
    "- This notebook uses Python code to display file contents (instead of relying on Unix commands) to ensure compatibility on Windows."
   ]
  },
  {
   "cell_type": "code",
   "execution_count": 1,
   "metadata": {},
   "outputs": [],
   "source": [
    "# Install snakefood and graphviz Python packages if not already installed\n",
    "import subprocess\n",
    "import sys\n",
    "\n",
    "def install_package(package):\n",
    "    try:\n",
    "        __import__(package.replace('-', '_'))\n",
    "        print(f\"{package} is already installed.\")\n",
    "    except ImportError:\n",
    "        print(f\"Installing {package}...\")\n",
    "        subprocess.check_call([sys.executable, \"-m\", \"pip\", \"install\", package])\n",
    "\n",
    "install_package('snakefood')\n",
    "install_package('graphviz')\n",
    "\n",
    "# Reminder: Ensure that the Graphviz executable (dot) is in your PATH."
   ]
  },
  {
   "cell_type": "markdown",
   "metadata": {},
   "source": [
    "## Analyzing Zeeguu-API (Data/api)\n",
    "\n",
    "We generate the dependency graph for the Zeeguu-API project by:\n",
    "\n",
    "1. Running Snakefood on the `Data/api` directory.\n",
    "2. Generating a Graphviz DOT file that represents the module dependencies.\n",
    "3. Displaying the DOT file content and visualizing the dependency graph.\n",
    "\n",
    "If any shell commands do not work on Windows, please ensure your PATH is correctly set up or try using an available bash shell."
   ]
  },
  {
   "cell_type": "code",
   "execution_count": 2,
   "metadata": {},
   "outputs": [],
   "source": [
    "# Generate dependency information for Zeeguu-API\n",
    "subprocess.check_call(\"sfood Data/api > api.sfood\", shell=True)\n",
    "\n",
    "# Generate a Graphviz DOT file from the dependency information\n",
    "subprocess.check_call(\"sfood-depgraph -f dot api.sfood > api.dot\", shell=True)"
   ]
  },
  {
   "cell_type": "code",
   "execution_count": 3,
   "metadata": {},
   "outputs": [],
   "source": [
    "# Display the contents of the DOT file using Python\n",
    "with open('api.dot', 'r', encoding='utf-8') as file:\n",
    "    api_dot_content = file.read()\n",
    "print(api_dot_content)"
   ]
  },
  {
   "cell_type": "code",
   "execution_count": 4,
   "metadata": {},
   "outputs": [],
   "source": [
    "import graphviz\n",
    "\n",
    "# Visualize the dependency graph for Zeeguu-API\n",
    "graphviz.Source(api_dot_content)"
   ]
  },
  {
   "cell_type": "markdown",
   "metadata": {},
   "source": [
    "## Analyzing Zeeguu-Frontend (Data/frontend)\n",
    "\n",
    "We now perform the same analysis for the Zeeguu-Frontend project by:\n",
    "\n",
    "1. Running Snakefood on the `Data/frontend` directory.\n",
    "2. Generating the corresponding Graphviz DOT file.\n",
    "3. Displaying the DOT file content and visualizing the dependency graph."
   ]
  },
  {
   "cell_type": "code",
   "execution_count": 5,
   "metadata": {},
   "outputs": [],
   "source": [
    "# Generate dependency information for Zeeguu-Frontend\n",
    "subprocess.check_call(\"sfood Data/frontend > frontend.sfood\", shell=True)\n",
    "\n",
    "# Generate a Graphviz DOT file from the dependency information\n",
    "subprocess.check_call(\"sfood-depgraph -f dot frontend.sfood > frontend.dot\", shell=True)"
   ]
  },
  {
   "cell_type": "code",
   "execution_count": 6,
   "metadata": {},
   "outputs": [],
   "source": [
    "# Display the contents of the frontend DOT file using Python\n",
    "with open('frontend.dot', 'r', encoding='utf-8') as file:\n",
    "    frontend_dot_content = file.read()\n",
    "print(frontend_dot_content)"
   ]
  },
  {
   "cell_type": "code",
   "execution_count": 7,
   "metadata": {},
   "outputs": [],
   "source": [
    "# Visualize the dependency graph for Zeeguu-Frontend\n",
    "graphviz.Source(frontend_dot_content)"
   ]
  },
  {
   "cell_type": "markdown",
   "metadata": {},
   "source": [
    "## Architectural Analysis and Discussion\n",
    "\n",
    "The generated dependency graphs provide a **module view** of the system. From these graphs, you can extract insights such as:\n",
    "\n",
    "- **Module Isolation:** Identify clusters of modules that are tightly coupled internally but loosely coupled with others (potential subsystems).\n",
    "- **Cyclic Dependencies:** Detect cycles that can indicate areas needing refactoring to reduce maintenance challenges.\n",
    "- **Critical Modules:** Spot central modules with many dependencies that may require careful management.\n",
    "\n",
    "### Recommendations for Reengineering\n",
    "\n",
    "- **Decoupling:** Consider introducing interfaces or service layers to reduce cyclic dependencies and improve separation of concerns.\n",
    "- **Refactoring:** Break down large or complex modules into smaller, more manageable components.\n",
    "- **Documentation:** Use these dependency graphs as visual aids to document the architecture and help onboard new developers."
   ]
  },
  {
   "cell_type": "markdown",
   "metadata": {},
   "source": [
    "## Conclusion\n",
    "\n",
    "This notebook demonstrates how to use Snakefood to perform a static analysis of the Zeeguu system. By generating and visualizing dependency graphs for both the API and Frontend, you obtain a clear architectural view that can serve as a basis for further analysis and reengineering.\n",
    "\n",
    "The approach here:\n",
    "\n",
    "- Extracts and visualizes architectural views from both code bases.\n",
    "- Provides insights into module cohesion, coupling, and potential cyclic dependencies.\n",
    "- Offers recommendations for reengineering based on the recovered architecture."
   ]
  },
  {
   "cell_type": "markdown",
   "metadata": {},
   "source": [
    "## Appendix\n",
    "\n",
    "### Scripts and Commands Used\n",
    "\n",
    "- **Snakefood Commands:**\n",
    "  - For Zeeguu-API:\n",
    "    - `sfood Data/api > api.sfood`\n",
    "    - `sfood-depgraph -f dot api.sfood > api.dot`\n",
    "  - For Zeeguu-Frontend:\n",
    "    - `sfood Data/frontend > frontend.sfood`\n",
    "    - `sfood-depgraph -f dot frontend.sfood > frontend.dot`\n",
    "\n",
    "- **Visualization:**\n",
    "  - Python is used to read the DOT files and the `graphviz` package renders the dependency graphs.\n",
    "\n",
    "For more details, refer to the assignment guidelines and the Zeeguu GitHub repositories."
   ]
  }
 ],
 "metadata": {
  "kernelspec": {
   "display_name": "Python 3",
   "language": "python",
   "name": "python3"
  },
  "language_info": {
   "name": "python",
   "version": "3.x"
  }
 },
 "nbformat": 4,
 "nbformat_minor": 5
}
